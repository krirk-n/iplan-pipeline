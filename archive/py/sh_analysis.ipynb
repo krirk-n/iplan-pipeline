{
 "cells": [
  {
   "cell_type": "code",
   "execution_count": 1,
   "id": "ef52ed40-78ec-4d9a-b4cb-b274b1cc7f03",
   "metadata": {
    "tags": []
   },
   "outputs": [],
   "source": [
    "import arango\n",
    "import lem_functions_2 as lf\n",
    "import lem_classes as lc"
   ]
  },
  {
   "cell_type": "code",
   "execution_count": 2,
   "id": "1d7accf9-625a-4cd1-a5f2-ff83b4b8105b",
   "metadata": {
    "tags": []
   },
   "outputs": [],
   "source": [
    "import sys\n",
    "import os\n",
    "import json,ast\n",
    "from pandas import DataFrame\n",
    "import itertools\n",
    "import math\n",
    "import numpy as np\n",
    "import random\n",
    "import json"
   ]
  },
  {
   "cell_type": "code",
   "execution_count": 52,
   "id": "a9238254-0e0b-4a81-9d78-b5ea2edf3367",
   "metadata": {
    "tags": []
   },
   "outputs": [],
   "source": [
    "# connect to db\n",
    "user_db = arango.UserDB()\n",
    "user_db.connect()\n",
    "\n",
    "mapid = \"57718789\"\n",
    "sample_size=10000\n",
    "\n",
    "# output to R\n",
    "luc_changes=[]\n",
    "luc_matrix=[]\n",
    "\n",
    "# get map by id\n",
    "map_json=user_db.get_map(mapid,rawResults=True)\n",
    "init_map=map_json\n",
    "\n",
    "#j = json.dumps(reps)\n",
    "map_id_json = mapid + \".json\"\n",
    "with open(map_id_json, 'w') as f:\n",
    "    json.dump(map_json, f)\n",
    "    \n",
    "d = json.dumps(init_map)\n",
    "init_map_name = mapid + \"_init_map.json\"\n",
    "with open(init_map_name, \"w\") as c:\n",
    "    c.write(d)\n",
    "    c.close()\n",
    "\n",
    "biome = map_json[\"biome\"]\n",
    "# extract information about stakeholders (representatives)\n",
    "reps = []\n",
    "for i in map_json['indicators']:\n",
    "    iCount = 0\n",
    "    for s in i['stakeholders']:\n",
    "        reps.append({\n",
    "            'isx': iCount,\n",
    "            'Representative': len(reps),\n",
    "            'Name': str(s['name']),\n",
    "            \"Indicator\": str(i['key']),\n",
    "            \"Direction\": str(s['direction']).capitalize(),\n",
    "            \"Threshold\": s['threshold']\n",
    "        })\n",
    "        iCount += 1\n",
    "\n",
    "j = json.dumps(reps)\n",
    "reps_map_name = mapid + \"_reps.json\"\n",
    "with open(reps_map_name, 'w') as f:\n",
    "    f.write(j)\n",
    "    f.close()\n",
    "\n",
    "# create a list of parcels indexed by lucs\n",
    "matrix = {}\n",
    "parcels = {}\n",
    "for l in map_json[\"lucs\"]:\n",
    "    parcels[l[\"zone\"]] = {\n",
    "        'area': 0,\n",
    "        'parcels': 0,\n",
    "        'name': l[\"name\"]\n",
    "    }\n",
    "    matrix[l['name']] = l['multipliers']\n",
    "# put parcels with the same luc together, not sure if this is necessary\n",
    "parcel_set = set()\n",
    "for p in map_json['parcels']:\n",
    "    #pKey = p['properties'][Config.get(\"parcel_keys\", \"LUC\")]\n",
    "    pKey = p['properties']['LUC']\n",
    "    #parcels[pKey]['area'] += float(p['properties'][Config.get(\"parcel_keys\", \"AREA\")])\n",
    "    #parcel_area = float(p['properties'][Config.get(\"parcel_keys\", \"AREA\")])\n",
    "    parcel_area = float(p['properties']['Area'])\n",
    "    parcels[pKey]['area'] += parcel_area\n",
    "    parcels[pKey]['parcels'] += 1\n",
    "    parcel_set.add(lc.Parcel(len(parcel_set), parcel_area ,parcels[pKey][\"name\"]))\n",
    "parcelValues = parcels.values()\n",
    "matrixA = DataFrame.from_dict(matrix).transpose()\n",
    "#\n",
    "stakeholders = reps\n",
    "input_parcels = parcelValues\n",
    "n_randomallocations = sample_size\n",
    "# get reps\n",
    "representatives = []\n",
    "for i in range(len(stakeholders)):\n",
    "    rep_json = stakeholders[i]\n",
    "    rp = lc.Representative(rep_json, matrixA, i)\n",
    "    rp.threshold=rep_json['Threshold']\n",
    "    representatives.append(rp)\n",
    "lf.read_map(input_parcels)\n",
    "\n",
    "parcels0 = parcel_set\n",
    "# init_map_file = open(\"init_map.txt\",\"w\")\n",
    "# init_map_file.write (\"parcle_id\\tarea\\tluc\\n\")\n",
    "# for p in parcels0:\n",
    "#     init_map_file.write(str(p.ix) +\"\\t\"+str(p.area)+\"\\t\"+p.land_use+\"\\n\")\n",
    "#  init_map_file.close()\n",
    "\n",
    "# init map luc area\n",
    "lc.Allocation.initial_allocation = lc.Allocation(parcels0)\n",
    "lc.Allocation.all_lucs = list(matrixA.index) \n",
    "lc.Allocation.parcels0 = sorted(parcels0, key=lambda x: x.area)\n",
    "lc.Allocation.p_areas_prop = [p.area / lc.Allocation.total_area for p in lc.Allocation.parcels0]\n",
    "\n",
    "num_of_parcels = len(parcels0)\n",
    "npc_min = 5 # min number of parcel changes\n",
    "npc_max = 0.2*num_of_parcels # max number of parcel changes\n",
    "npc_mean = 0.1*num_of_parcels # mean number of parcel changes\n",
    "npc_sd = 0.25*num_of_parcels   # standard deviation of number of parcel changes\n",
    " \n",
    "# start simulation\n",
    "# luc_changes will have format like luc_0_0:1;luc_0_1:2;...upto luc_10_10\n",
    "allocations2 = []\n",
    "allocations2.append(lc.Allocation(parcels0))\n",
    "allocations2[0].aix = itertools.count(1)\n",
    "n_sample=sample_size\n",
    "\n",
    "for i in range(n_sample): # sample n maps as variation of initial map\n",
    "        # determine the number of parcles to change\n",
    "    k = int(math.ceil(np.random.normal(npc_mean,npc_sd))) \n",
    "    if k<npc_min:\n",
    "        k=npc_min\n",
    "    if k>npc_max:\n",
    "        k=npc_max\n",
    "        # generate a map with k parcels LUC changed and add to the sample\n",
    "    allocations2.append(lc.Allocation.randomAllocation_2(k, 0.005, 0.0025,0.001,0.5,i,luc_changes))\n",
    "\n",
    "    # calculate indicator values for each allocation\n",
    "lc.Allocation.n_alloc = len(allocations2)\n",
    "for a in allocations2:\n",
    "    a.calculate_indicators(matrixA)\n",
    "    # segment indicators and compute delta sets for each rep\n",
    "#Indicator.createIndicators2(allocations2)\n",
    "    # compute stakeholder satisfactory\n",
    "    #stakeholder_file = open(\"stakeholder.txt\",\"w\")\n",
    "    #stakeholder_file.write(\"stakeholder\\tindicator\\tthreshold\\tinit_value\\tdirection\\tinit_map_satisfied\\n\")\n",
    "\n",
    "for k in range(len(allocations2)):\n",
    "    for i in range(len(representatives)):\n",
    "        rp = representatives[i]\n",
    "        s = stakeholders[i]\n",
    "        indicator_value = allocations2[k].indicators[s[\"Indicator\"]]\n",
    "        satisfied = \"NO\"\n",
    "        if s[\"Direction\"]==\"Higher\" and indicator_value[0]>rp.threshold:\n",
    "            satisfied = \"Yes\"\n",
    "        elif s[\"Direction\"]==\"Lower\" and indicator_value[0]<rp.threshold:\n",
    "            satisfied = \"Yes\" \n",
    "        luc_matrix.append({\n",
    "            'mapid':k,\n",
    "            'stakeholder':s[\"Name\"],\n",
    "            'satisfied':satisfied,\n",
    "            'indicator':s[\"Indicator\"],\n",
    "            'indicator_value':indicator_value[0],\n",
    "            'threshold':rp.threshold,\n",
    "            'direction':s[\"Direction\"]\n",
    "        })"
   ]
  },
  {
   "cell_type": "code",
   "execution_count": 53,
   "id": "68f4c258-077f-4e0b-80cc-f408868888cf",
   "metadata": {},
   "outputs": [],
   "source": [
    "sh_satis = []\n",
    "mapind = -1\n",
    "cnt = 0\n",
    "for i in range(len(luc_matrix)):\n",
    "    if i != 0 and luc_matrix[i][\"mapid\"] != mapind:\n",
    "        sh_satis.append(cnt)\n",
    "        mapind = luc_matrix[i][\"mapid\"]\n",
    "        cnt = 0\n",
    "    if luc_matrix[i][\"satisfied\"] == \"Yes\":\n",
    "        cnt += 1"
   ]
  },
  {
   "cell_type": "code",
   "execution_count": 54,
   "id": "a7ac352e-1c2c-4ce9-969f-9d504296be04",
   "metadata": {
    "tags": []
   },
   "outputs": [
    {
     "data": {
      "text/plain": [
       "10001"
      ]
     },
     "execution_count": 54,
     "metadata": {},
     "output_type": "execute_result"
    }
   ],
   "source": [
    "mapinds = list(range(1,len(sh_satis)+1))\n",
    "mapinds[-1]"
   ]
  },
  {
   "cell_type": "code",
   "execution_count": 15,
   "id": "ee654e21-58c7-4623-9a30-7db8e42fde7c",
   "metadata": {
    "tags": []
   },
   "outputs": [],
   "source": [
    "import matplotlib.pyplot as plt\n",
    "import numpy as np"
   ]
  },
  {
   "cell_type": "code",
   "execution_count": 34,
   "id": "0dc83a5d-9884-4dae-8007-b27ab798fb96",
   "metadata": {
    "tags": []
   },
   "outputs": [
    {
     "data": {
      "text/plain": [
       "(array([1446.,    0., 1383.,    0., 2321.,    0., 2278.,    0., 2566.,\n",
       "           7.]),\n",
       " array([0. , 0.5, 1. , 1.5, 2. , 2.5, 3. , 3.5, 4. , 4.5, 5. ]),\n",
       " <BarContainer object of 10 artists>)"
      ]
     },
     "execution_count": 34,
     "metadata": {},
     "output_type": "execute_result"
    },
    {
     "data": {
      "image/png": "[encoded data removed]",
      "text/plain": [
       "<Figure size 640x480 with 1 Axes>"
      ]
     },
     "metadata": {},
     "output_type": "display_data"
    }
   ],
   "source": [
    "fig = plt.figure()\n",
    "plt.hist(sh_satis)"
   ]
  },
  {
   "cell_type": "code",
   "execution_count": 35,
   "id": "ec743368-4c16-462d-b91a-8c86844048d0",
   "metadata": {},
   "outputs": [],
   "source": [
    "fig.savefig(f'{mapid}_plot.png')"
   ]
  },
  {
   "cell_type": "code",
   "execution_count": 55,
   "id": "f31124e9-368a-4934-8084-b907f07433b9",
   "metadata": {},
   "outputs": [],
   "source": [
    "x = list(str(m) for m in mapinds)\n",
    "y = sh_satis\n",
    "\n",
    "# Sort the data based on y-values\n",
    "sorted_indices = np.argsort(y)\n",
    "sorted_x = np.array(x)[sorted_indices]\n",
    "sorted_y = np.array(y)[sorted_indices]"
   ]
  },
  {
   "cell_type": "code",
   "execution_count": 29,
   "id": "3d5e160d-b5ea-4e82-9a2b-1990073c622a",
   "metadata": {
    "tags": []
   },
   "outputs": [
    {
     "data": {
      "text/plain": [
       "array(['1', '4803', '4804', ..., '8352', '2436', '7530'], dtype='<U5')"
      ]
     },
     "execution_count": 29,
     "metadata": {},
     "output_type": "execute_result"
    }
   ],
   "source": [
    "sorted_x"
   ]
  },
  {
   "cell_type": "code",
   "execution_count": 31,
   "id": "f952a77d-857c-4de9-b377-d0ab705d1926",
   "metadata": {
    "tags": []
   },
   "outputs": [
    {
     "data": {
      "text/plain": [
       "array([0, 0, 0, ..., 5, 5, 5])"
      ]
     },
     "execution_count": 31,
     "metadata": {},
     "output_type": "execute_result"
    }
   ],
   "source": [
    "sorted_y"
   ]
  },
  {
   "cell_type": "code",
   "execution_count": 56,
   "id": "d6032ad2-0031-49f6-b321-e531fc304777",
   "metadata": {
    "tags": []
   },
   "outputs": [
    {
     "data": {
      "image/png": "[encoded data removed]",
      "text/plain": [
       "<Figure size 640x480 with 1 Axes>"
      ]
     },
     "metadata": {},
     "output_type": "display_data"
    }
   ],
   "source": [
    "fig = plt.figure()\n",
    "plt.scatter(sorted_x, sorted_y, s=0.5)\n",
    "plt.xticks([])\n",
    "plt.show()"
   ]
  },
  {
   "cell_type": "code",
   "execution_count": 57,
   "id": "50845b0a-7f99-4071-a1f7-ce45d22c6add",
   "metadata": {
    "tags": []
   },
   "outputs": [],
   "source": [
    "fig.savefig(f'{mapid}_plot_2.png')"
   ]
  },
  {
   "cell_type": "code",
   "execution_count": null,
   "id": "06ac083e-0ddb-4673-9115-9c8f764a22a7",
   "metadata": {},
   "outputs": [],
   "source": []
  }
 ],
 "metadata": {
  "kernelspec": {
   "display_name": "Python 3 (ipykernel)",
   "language": "python",
   "name": "python3"
  },
  "language_info": {
   "codemirror_mode": {
    "name": "ipython",
    "version": 3
   },
   "file_extension": ".py",
   "mimetype": "text/x-python",
   "name": "python",
   "nbconvert_exporter": "python",
   "pygments_lexer": "ipython3",
   "version": "3.10.11"
  }
 },
 "nbformat": 4,
 "nbformat_minor": 5
}
